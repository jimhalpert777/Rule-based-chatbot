{
  "cells": [
    {
      "cell_type": "markdown",
      "metadata": {
        "id": "view-in-github",
        "colab_type": "text"
      },
      "source": [
        "<a href=\"https://colab.research.google.com/github/jimhalpert777/Rule-based-chatbot/blob/main/Copy_of_rule_based_chatbot.ipynb\" target=\"_parent\"><img src=\"https://colab.research.google.com/assets/colab-badge.svg\" alt=\"Open In Colab\"/></a>"
      ]
    },
    {
      "cell_type": "code",
      "source": [
        "import re   #string operation\n",
        "import random #random response"
      ],
      "metadata": {
        "id": "tedEJkiHWQPn"
      },
      "execution_count": null,
      "outputs": []
    },
    {
      "cell_type": "code",
      "source": [
        "class RuleBot:\n",
        "    ### Potential Negative response\n",
        "    negative_responses = (\"no\", \"nope\", \"nah\", \"naw\", \"not a chance\", \"sorry\")\n",
        "    #### Exit conversation keywords\n",
        "    exit_commands = (\"quit\", \"pause\", \"exit\", \"goodbye\", \"bye\", \"later\")\n",
        "    random_questions = (\n",
        "        \"Why are you here? \",\n",
        "        \"Are there many humans like you? \",\n",
        "        \"What do you consume for sustenance? \",\n",
        "        \"Is there intelligent life on this planet? \",\n",
        "        \"Does earth have a leader? \",\n",
        "        \"What planets have you visited? \",\n",
        "        \"What technology do you have on this planet? \"\n",
        "    )\n",
        "    def __init__(self):\n",
        "      self.alienbabble = {'describe_planet_intent':r'.*\\s*your planet.*',\n",
        "                              'answer_why_intent':r'why\\sare.*',\n",
        "                              'about_ronaldo':r'.*\\s*ronaldo',\n",
        "                              'about_RealMadrid':r'.*\\s*RealMadrid'\n",
        "                              }\n",
        "    def greet(self):\n",
        "          self.name = input(\"what is your name?\\n\")\n",
        "          will_help = input(\n",
        "              f\"Hi {self.name}, I am Rule-Bot.Will you help me learn about your planet?\\n\")\n",
        "          if will_help in self.negative_responses:\n",
        "             print(\"Ok, have a nice Earth day!\")\n",
        "             return\n",
        "          self.chat()\n",
        "\n",
        "    def make_exit(self, reply):\n",
        "          for command in self.exit_commands:\n",
        "              if reply == command:\n",
        "                  print (\"Okay, have a nice Earth day!\")\n",
        "                  return True\n",
        "    def chat(self):\n",
        "          reply = input(random.choice(self.random_questions)).lower()\n",
        "          while not self.make_exit(reply):\n",
        "              reply = input(self.match_reply(reply))\n",
        "    def match_reply(self, reply):\n",
        "          for key, value in self.alienbabble.items():\n",
        "              intent = key\n",
        "              regex_pattern = value\n",
        "              found_match = re.match(regex_pattern, reply)\n",
        "              if found_match and intent == 'describe_planet_intent':\n",
        "                  return self.describe_planet_intent()\n",
        "              elif found_match and intent == 'answer_why_intent':\n",
        "                  return self.answer_why_intent()\n",
        "              elif found_match and intent == 'about_ronaldo':\n",
        "                  return self.about_ronaldo()\n",
        "              elif found_match and intent == 'about_RealMadrid':\n",
        "                  return self.about_RealMadrid()\n",
        "          if not found_match:\n",
        "              return self.no_match_intent()\n",
        "\n",
        "    def describe_planet_intent(self):\n",
        "         responses = (\"My planet is utopia of diverse organisms and species.\\n\",\n",
        "                      \"I am from Asgard, the capital of the titan galaxies.\\n\")\n",
        "         return random.choice(responses)\n",
        "    def answer_why_intent(self):\n",
        "        responses = (\"I come in peace\\n\", \"I am here to collect data on your planet and it's inhabitants\\n\",\n",
        "                      \"I heard tea is good \\n\")\n",
        "        return random.choice(responses)\n",
        "    def about_ronaldo(self):\n",
        "        responses = (\"Cristiano Ronaldo is the best player in the world\\n\", \"Ronaldo is the best goalscorer of this era\\n\",\n",
        "                      \"Ronaldo may not have won wc but he won the world\\n\")\n",
        "        return random.choice(responses)\n",
        "    def about_RealMadrid(self):\n",
        "        responses = (\"Real Madrid is the best club in the world\\n\",\"Madrid is the only club with 14 UCLs\\n\")\n",
        "        return random.choice(responses)\n",
        "    def no_match_intent(self):\n",
        "        responses = (\n",
        "        \"Please tell me more.\\n\",\"Tell me more!\\n\", \" Why do you say that?\\n\", \"I see. Can you elaborate?\\n\",\n",
        "        \"Interesting. Can you tell me more?\\n\", \"I see. How do you think?\\n\", \"Why?\\n\",\n",
        "        \"How do you think I feel when you say that?\\n\")\n",
        "        return random.choice(responses)\n",
        "\n",
        "AlienBot = RuleBot()\n",
        "AlienBot.greet()\n",
        "\n",
        "\n",
        "\n",
        "\n"
      ],
      "metadata": {
        "id": "BQfo4z5LWr6d",
        "colab": {
          "base_uri": "https://localhost:8080/"
        },
        "outputId": "fdd2627c-31fa-4fec-883f-cf41795858ef"
      },
      "execution_count": null,
      "outputs": [
        {
          "output_type": "stream",
          "name": "stdout",
          "text": [
            "what is your name?\n",
            "Atharva\n",
            "Hi Atharva, I am Rule-Bot.Will you help me learn about your planet?\n",
            "Sure\n",
            "What technology do you have on this planet? different technology are there like mobile communication ,robotics etc\n",
            "Tell me more!\n",
            "who is ronaldo\n",
            "Ronaldo may not have won wc but he won the world\n",
            "tell me about ronaldo\n",
            "Ronaldo is the best goalscorer of this era\n",
            "tell me about RealMadrid\n",
            "Madrid is the only club with 14 UCLs\n",
            "describe your planet\n",
            "My planet is utopia of diverse organisms and species.\n",
            "quit\n",
            "Okay, have a nice Earth day!\n"
          ]
        }
      ]
    }
  ],
  "metadata": {
    "colab": {
      "toc_visible": true,
      "provenance": [],
      "include_colab_link": true
    },
    "kernelspec": {
      "display_name": "Python 3",
      "name": "python3"
    }
  },
  "nbformat": 4,
  "nbformat_minor": 0
}